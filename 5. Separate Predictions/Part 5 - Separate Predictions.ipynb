{
 "cells": [
  {
   "cell_type": "markdown",
   "metadata": {},
   "source": [
    "## IMPORTING THE LIBRARIES"
   ]
  },
  {
   "cell_type": "code",
   "execution_count": 2,
   "metadata": {},
   "outputs": [],
   "source": [
    "import pandas as pd\n",
    "import numpy as np\n",
    "import matplotlib.pyplot as plt\n",
    "import seaborn as sns\n",
    "import calendar\n",
    "import warnings\n",
    "import os\n",
    "\n",
    "from datetime import datetime as dt\n",
    "from sklearn.preprocessing import MinMaxScaler\n",
    "from sklearn.metrics import r2_score,mean_squared_log_error\n",
    "from sklearn.model_selection import train_test_split\n",
    "\n",
    "from sklearn.ensemble import RandomForestRegressor, GradientBoostingRegressor\n",
    "from sklearn.svm import SVR\n",
    "warnings.filterwarnings('ignore')\n",
    "pd.options.mode.chained_assignment = None\n",
    "%matplotlib inline"
   ]
  },
  {
   "cell_type": "markdown",
   "metadata": {},
   "source": [
    "## HELPER FUNCTIONS"
   ]
  },
  {
   "cell_type": "code",
   "execution_count": 2,
   "metadata": {},
   "outputs": [],
   "source": [
    "def get_data():\n",
    "    train = pd.read_csv('https://s3.us-east-2.amazonaws.com/final-project-dataset/train.csv')\n",
    "    test = pd.read_csv('https://s3.us-east-2.amazonaws.com/final-project-dataset/test.csv')\n",
    "    return train, test"
   ]
  },
  {
   "cell_type": "code",
   "execution_count": 3,
   "metadata": {},
   "outputs": [],
   "source": [
    "def preprocessing_data(train,test):\n",
    "    global categoricalFeatureNames,numericalFeatureNames\n",
    "    \n",
    "    #Combining Test and Train Frames\n",
    "    data = train.append(test)\n",
    "    data.reset_index(inplace=True)\n",
    "    data.drop('index',inplace=True,axis=1)\n",
    "    \n",
    "    #Deriving Time Series Columns from datetime field\n",
    "    data[\"date\"] = data.datetime.apply(lambda x : x.split()[0])\n",
    "    data[\"hour\"] = data.datetime.apply(lambda x : x.split()[1].split(\":\")[0]).astype(\"int\")\n",
    "    data[\"year\"] = data.datetime.apply(lambda x : x.split()[0].split(\"-\")[0]).astype('int')\n",
    "    data[\"weekday\"] = data.date.apply(lambda dateString : dt.strptime(dateString,\"%Y-%m-%d\").weekday())\n",
    "    data[\"month\"] = data.date.apply(lambda dateString : dt.strptime(dateString,\"%Y-%m-%d\").month)\n",
    "    \n",
    "    #Predicting Missing Wind Values using RF Regressor\n",
    "    dataWind0 = data[data[\"windspeed\"]==0]\n",
    "    dataWindNot0 = data[data[\"windspeed\"]!=0]\n",
    "    rfModel_wind = RandomForestRegressor()\n",
    "    windColumns = [\"season\",\"weather\",\"humidity\",\"month\",\"temp\",\"year\",\"atemp\"]\n",
    "    rfModel_wind.fit(dataWindNot0[windColumns], dataWindNot0[\"windspeed\"])\n",
    "    wind0Values = rfModel_wind.predict(X= dataWind0[windColumns])\n",
    "    dataWind0[\"windspeed\"] = wind0Values\n",
    "    data = dataWindNot0.append(dataWind0)\n",
    "    data.reset_index(inplace=True)\n",
    "    data.drop('index',inplace=True,axis=1)\n",
    "    \n",
    "    #Designating Categorical Features from numeric columns\n",
    "    categoricalFeatureNames = [\"season\",\"holiday\",\"workingday\",\"weather\",\"weekday\",\"month\",\"year\",\"hour\"]\n",
    "    numericalFeatureNames = [\"atemp\",\"humidity\",\"windspeed\",\"casual\",\"registered\"]\n",
    "    dropFeatures = [\"datetime\",\"date\",\"temp\",\"count\"]\n",
    "    \n",
    "    for var in categoricalFeatureNames:\n",
    "        data[var] = data[var].astype(\"category\")\n",
    "    \n",
    "    dataTrain = data[pd.notnull(data['count'])].sort_values(by=[\"datetime\"])\n",
    "    dataTest = data[~pd.notnull(data['count'])].sort_values(by=[\"datetime\"])\n",
    "    \n",
    "    dataTrain  = dataTrain.drop(dropFeatures,axis=1)\n",
    "    dataTest  = dataTest.drop(dropFeatures,axis=1)\n",
    "    dataTest = dataTest.drop(['casual','registered'],axis=1)\n",
    "    \n",
    "    return dataTrain,dataTest"
   ]
  },
  {
   "cell_type": "code",
   "execution_count": 4,
   "metadata": {},
   "outputs": [],
   "source": [
    "error_metric2 = pd.DataFrame({'Training RMSLE': [],'Training R^2': [],'Testing RMSLE':[], 'Testing R^2':[]})\n",
    "\n",
    "def model_stats(model, model_name, X_train, Y_train, X_test, Y_test):\n",
    "    global error_metric2\n",
    "    train_data_predictions = model.predict(X_train)\n",
    "    test_data_predictions = model.predict(X_test)\n",
    "\n",
    "    # RMSLE\n",
    "    model_rmsle_train = np.sqrt(mean_squared_log_error(Y_train, train_data_predictions))\n",
    "    model_rmsle_test = np.sqrt(mean_squared_log_error(Y_test, test_data_predictions))\n",
    "\n",
    "    # R-Squared\n",
    "    model_r2_train = r2_score(Y_train, train_data_predictions)\n",
    "    model_r2_test = r2_score(Y_test, test_data_predictions)\n",
    "\n",
    "    df_local = pd.DataFrame({'Model': [model_name],\n",
    "                             'Training RMSLE': [model_rmsle_train],\n",
    "                             'Training R^2': [model_r2_train],\n",
    "                             'Testing RMSLE':[model_rmsle_test],\n",
    "                             'Testing R^2' : [model_r2_test]})\n",
    "\n",
    "    error_metric2 = pd.concat([error_metric2, df_local], sort=True)"
   ]
  },
  {
   "cell_type": "markdown",
   "metadata": {},
   "source": [
    "## SEPARATING CASUAL AND REGISTERED TARGETS"
   ]
  },
  {
   "cell_type": "code",
   "execution_count": 5,
   "metadata": {},
   "outputs": [],
   "source": [
    "raw_train, raw_test = get_data()\n",
    "pro_train, pro_test = preprocessing_data(raw_train,raw_test)"
   ]
  },
  {
   "cell_type": "code",
   "execution_count": 6,
   "metadata": {},
   "outputs": [],
   "source": [
    "X = pro_train.drop(['casual','registered'],axis=1)\n",
    "y_casual = pro_train['casual']\n",
    "y_registered = pro_train['registered']"
   ]
  },
  {
   "cell_type": "markdown",
   "metadata": {},
   "source": [
    "## CASUAL USER PREDICTION"
   ]
  },
  {
   "cell_type": "code",
   "execution_count": 7,
   "metadata": {},
   "outputs": [],
   "source": [
    "tuned_casual = RandomForestRegressor(n_estimators = 100, max_depth = 50, oob_score = False, n_jobs = -1)"
   ]
  },
  {
   "cell_type": "code",
   "execution_count": 8,
   "metadata": {},
   "outputs": [],
   "source": [
    "X_train_cas, X_test_cas, y_train_cas, y_test_cas = train_test_split(X, y_casual, test_size=0.30, shuffle=False)"
   ]
  },
  {
   "cell_type": "code",
   "execution_count": 9,
   "metadata": {},
   "outputs": [],
   "source": [
    "tuned_casual.fit(X_train_cas,y_train_cas)\n",
    "model_stats(tuned_casual,'Model for Casual Prediction',X_train_cas,y_train_cas,X_test_cas,y_test_cas)"
   ]
  },
  {
   "cell_type": "code",
   "execution_count": 10,
   "metadata": {},
   "outputs": [],
   "source": [
    "casual_predictions = tuned_casual.predict(pro_test)"
   ]
  },
  {
   "cell_type": "markdown",
   "metadata": {},
   "source": [
    "## REGISTERED USER PREDICTION"
   ]
  },
  {
   "cell_type": "code",
   "execution_count": 11,
   "metadata": {},
   "outputs": [],
   "source": [
    "tuned_reg = RandomForestRegressor(n_estimators = 100, max_depth = 50, oob_score = False, n_jobs = -1)"
   ]
  },
  {
   "cell_type": "code",
   "execution_count": 12,
   "metadata": {},
   "outputs": [],
   "source": [
    "X_train_reg, X_test_reg, y_train_reg, y_test_reg = train_test_split(X, y_registered, test_size=0.30, shuffle=False)"
   ]
  },
  {
   "cell_type": "code",
   "execution_count": 13,
   "metadata": {},
   "outputs": [],
   "source": [
    "tuned_reg.fit(X_train_reg,y_train_reg)\n",
    "model_stats(tuned_reg,'Model for Registered Predictions',X_train_reg,y_train_reg,X_test_reg,y_test_reg)"
   ]
  },
  {
   "cell_type": "code",
   "execution_count": 14,
   "metadata": {},
   "outputs": [],
   "source": [
    "registered_predictions = tuned_reg.predict(pro_test)"
   ]
  },
  {
   "cell_type": "markdown",
   "metadata": {},
   "source": [
    "## PREPPING THE FINAL SUBMISSION DATAFRAME"
   ]
  },
  {
   "cell_type": "code",
   "execution_count": 15,
   "metadata": {
    "scrolled": true
   },
   "outputs": [],
   "source": [
    "reg_pred = pd.DataFrame(registered_predictions)\n",
    "reg_pred.set_index(pro_test.index,inplace=True)\n",
    "reg_pred.columns = ['registered_pred']\n",
    "\n",
    "cas_pred = pd.DataFrame(casual_predictions)\n",
    "cas_pred.set_index(pro_test.index,inplace=True)\n",
    "cas_pred.columns = ['casual_pred']"
   ]
  },
  {
   "cell_type": "code",
   "execution_count": 16,
   "metadata": {
    "scrolled": true
   },
   "outputs": [],
   "source": [
    "pro_test = pd.concat([pro_test,reg_pred,cas_pred],axis=1)"
   ]
  },
  {
   "cell_type": "code",
   "execution_count": 17,
   "metadata": {
    "scrolled": true
   },
   "outputs": [],
   "source": [
    "pro_test['count'] = pro_test['registered_pred'] + pro_test['casual_pred']"
   ]
  },
  {
   "cell_type": "code",
   "execution_count": 18,
   "metadata": {},
   "outputs": [],
   "source": [
    "pro_test = pro_test.reset_index().set_index(raw_test['datetime'])"
   ]
  },
  {
   "cell_type": "code",
   "execution_count": 21,
   "metadata": {},
   "outputs": [],
   "source": [
    "pro_test['count'].to_csv(\"Summed Predictions.csv\")"
   ]
  },
  {
   "cell_type": "markdown",
   "metadata": {},
   "source": [
    "## METRICS FOR BOTH MODELS AND RANKING"
   ]
  },
  {
   "cell_type": "code",
   "execution_count": 23,
   "metadata": {
    "scrolled": true
   },
   "outputs": [
    {
     "data": {
      "text/html": [
       "<div>\n",
       "<style scoped>\n",
       "    .dataframe tbody tr th:only-of-type {\n",
       "        vertical-align: middle;\n",
       "    }\n",
       "\n",
       "    .dataframe tbody tr th {\n",
       "        vertical-align: top;\n",
       "    }\n",
       "\n",
       "    .dataframe thead th {\n",
       "        text-align: right;\n",
       "    }\n",
       "</style>\n",
       "<table border=\"1\" class=\"dataframe\">\n",
       "  <thead>\n",
       "    <tr style=\"text-align: right;\">\n",
       "      <th></th>\n",
       "      <th>Model</th>\n",
       "      <th>Testing RMSLE</th>\n",
       "      <th>Testing R^2</th>\n",
       "      <th>Training RMSLE</th>\n",
       "      <th>Training R^2</th>\n",
       "    </tr>\n",
       "  </thead>\n",
       "  <tbody>\n",
       "    <tr>\n",
       "      <th>0</th>\n",
       "      <td>Model for Casual Prediction</td>\n",
       "      <td>0.560197</td>\n",
       "      <td>0.810732</td>\n",
       "      <td>0.253871</td>\n",
       "      <td>0.987407</td>\n",
       "    </tr>\n",
       "    <tr>\n",
       "      <th>1</th>\n",
       "      <td>Model for Registered Predictions</td>\n",
       "      <td>0.353974</td>\n",
       "      <td>0.878212</td>\n",
       "      <td>0.154129</td>\n",
       "      <td>0.992567</td>\n",
       "    </tr>\n",
       "  </tbody>\n",
       "</table>\n",
       "</div>"
      ],
      "text/plain": [
       "                              Model  Testing RMSLE  Testing R^2  \\\n",
       "0       Model for Casual Prediction       0.560197     0.810732   \n",
       "1  Model for Registered Predictions       0.353974     0.878212   \n",
       "\n",
       "   Training RMSLE  Training R^2  \n",
       "0        0.253871      0.987407  \n",
       "1        0.154129      0.992567  "
      ]
     },
     "execution_count": 23,
     "metadata": {},
     "output_type": "execute_result"
    }
   ],
   "source": [
    "error_metric2.reset_index().drop('index',axis=1)"
   ]
  },
  {
   "attachments": {
    "BigML%20Results.jpg": {
     "image/jpeg": "[encoded data removed]"
    }
   },
   "cell_type": "markdown",
   "metadata": {},
   "source": [
    "![BigML%20Results.jpg](attachment:BigML%20Results.jpg)"
   ]
  }
 ],
 "metadata": {
  "kernelspec": {
   "display_name": "Python 3",
   "language": "python",
   "name": "python3"
  },
  "language_info": {
   "codemirror_mode": {
    "name": "ipython",
    "version": 3
   },
   "file_extension": ".py",
   "mimetype": "text/x-python",
   "name": "python",
   "nbconvert_exporter": "python",
   "pygments_lexer": "ipython3",
   "version": "3.7.0"
  }
 },
 "nbformat": 4,
 "nbformat_minor": 2
}
